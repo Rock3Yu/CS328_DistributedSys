{
 "cells": [
  {
   "cell_type": "markdown",
   "id": "9d14e2b3",
   "metadata": {},
   "source": [
    "# CS328 Assignment 2 \n",
    "\n",
    "* Main task: Spark Data Processing - Plots\n",
    "    \n",
    "* Student Name: 余坤屹 Yu Kunyi\n",
    "\n",
    "* Student ID: 12013027\n"
   ]
  },
  {
   "cell_type": "markdown",
   "source": [
    "## configuration"
   ],
   "metadata": {
    "collapsed": false
   },
   "id": "a48641a86189cbd8"
  },
  {
   "cell_type": "code",
   "execution_count": 1,
   "outputs": [],
   "source": [
    "import matplotlib\n",
    "from matplotlib import pyplot as plt\n",
    "import pandas as pd\n",
    "import numpy as np\n",
    "\n",
    "matplotlib.rc(\"font\", family='Songti SC')\n"
   ],
   "metadata": {
    "collapsed": false,
    "ExecuteTime": {
     "end_time": "2023-12-05T08:57:38.403692Z",
     "start_time": "2023-12-05T08:57:38.000587Z"
    }
   },
   "id": "d40a9ce1e0c1213c"
  },
  {
   "cell_type": "markdown",
   "source": [
    "## Task 1: total number of berthages in each section\n",
    "\n",
    "Output the total number of berthages in each section. The output file should have two columns, with the headers being section and count."
   ],
   "metadata": {
    "collapsed": false
   },
   "id": "63f96456"
  },
  {
   "cell_type": "code",
   "execution_count": null,
   "outputs": [],
   "source": [
    "df = pd.read_csv('result/r1.csv')\n",
    "\n",
    "plt.figure(figsize=(20, 10))\n",
    "plt.barh(df['section'], df['count'], color='skyblue')\n",
    "plt.xlabel('Count', fontsize=14)\n",
    "plt.ylabel('Section', fontsize=14)\n",
    "plt.title('Section Counts', fontsize=16)\n",
    "plt.yticks(fontsize=14)\n",
    "plt.tight_layout()\n",
    "\n",
    "plt.savefig('./report/imgs/img1.png', format='png')\n",
    "plt.show()\n"
   ],
   "metadata": {
    "collapsed": false
   },
   "id": "4c2e3d3ff3cf5a4a"
  },
  {
   "cell_type": "markdown",
   "source": [
    "## Task 2: all unique ids (berthages) with their sections\n",
    "\n",
    "Output all unique ids (berthages), associated with their sections. The output file should have two columns, with the headers being berthage and section."
   ],
   "metadata": {
    "collapsed": false
   },
   "id": "c6852ba33a53f789"
  },
  {
   "cell_type": "code",
   "execution_count": null,
   "outputs": [],
   "source": [
    "pass"
   ],
   "metadata": {
    "collapsed": false
   },
   "id": "d1dd4f0a295fe211"
  },
  {
   "cell_type": "markdown",
   "source": [
    "## Task 3: Average parking time per section\n",
    "\n",
    "Output for each section:the average parking time of a car in that section.The output file should have two columns, with the headers being section and avg_parking_time. The average parking time should be counted in seconds as an integer."
   ],
   "metadata": {
    "collapsed": false
   },
   "id": "91945fb79b0bf29a"
  },
  {
   "cell_type": "code",
   "execution_count": null,
   "outputs": [],
   "source": [
    "df = pd.read_csv('result/r3.csv')\n",
    "\n",
    "plt.figure(figsize=(20, 10))\n",
    "plt.barh(df['section'], df['avg_parking_time'], color='skyblue')\n",
    "plt.xlabel('Average parking time', fontsize=14)\n",
    "plt.ylabel('Section', fontsize=14)\n",
    "plt.title('Average parking time per Section', fontsize=16)\n",
    "plt.yticks(fontsize=14)\n",
    "plt.tight_layout()\n",
    "\n",
    "plt.savefig('./report/imgs/img3.png', format='png')\n",
    "plt.show()\n"
   ],
   "metadata": {
    "collapsed": false
   },
   "id": "6fbf013035b82815"
  },
  {
   "cell_type": "markdown",
   "source": [
    "## Task 4: Average parking time per berthage, in descending order\n",
    "\n",
    "Output the average parking time for each berthage, sorted in descending order. The output file should have two columns, with the headers being berthage and avg_parking_time. The average parking time should be counted in seconds as an integer."
   ],
   "metadata": {
    "collapsed": false
   },
   "id": "c7e61bc5902d2c41"
  },
  {
   "cell_type": "code",
   "execution_count": null,
   "outputs": [],
   "source": [
    "pass"
   ],
   "metadata": {
    "collapsed": false
   },
   "id": "68af57b8a61c33b3"
  },
  {
   "cell_type": "markdown",
   "source": [
    "## Task 5: Berthage usage per section, hour\n",
    "\n",
    "Output for each section: the total number of berthages in use (“in use” means there is at least one car in that berthage) and the percentage out of the total number of berthages in that section, in a one-hour interval (e.g. during 09:00:00-10:00:00). The output file should have five columns, with the headers being start_time, end_time, section, count and percentage. The percentage value should be rounded to one decimal place (e.g. 67.8%). The data format of start_time and end_time should be “YYYY-MM-DD HH:MM:SS”, e.g. 2018-09-01 12:00:00"
   ],
   "metadata": {
    "collapsed": false
   },
   "id": "44dd364b5434bd65"
  },
  {
   "cell_type": "code",
   "execution_count": 42,
   "outputs": [
    {
     "data": {
      "text/plain": "<Figure size 640x480 with 1 Axes>",
      "image/png": "[encoded data removed]"
     },
     "metadata": {},
     "output_type": "display_data"
    }
   ],
   "source": [
    "df = pd.read_csv(\"result/r5.csv\")\n",
    "labels = ['高新南环路', '科技南一路', '创业路(南油段)']\n",
    "\n",
    "percentages = []\n",
    "for i in range(7, 21):\n",
    "    item = []\n",
    "    for j in range(3):\n",
    "        time = (\"0\" + str(i) if i < 10 else str(i)) + \":00:00\"\n",
    "        find_list = df[df['section'] == labels[j]]\n",
    "        find_list = find_list[find_list['start_time'] == time]\n",
    "        if len(find_list) == 1:\n",
    "            one = find_list.iloc[0]['percentage']\n",
    "        else:\n",
    "            print(\"null\", end=\", \")\n",
    "            one = 0\n",
    "        item.append(one)\n",
    "    percentages.append(item)\n",
    "\n",
    "x = np.arange(len(labels))\n",
    "width = 0.05\n",
    "\n",
    "fig, ax = plt.subplots()\n",
    "rectss = []\n",
    "for i in range(7, 21):\n",
    "    arg1 = ((i - 14) * 2 - 1) * (width / 2)\n",
    "    time = (\"0\" + str(i) if i < 10 else str(i)) + \":00:00\"\n",
    "    rects = ax.bar(x + arg1, percentages[i - 7], 0.8 * width, label=time)\n",
    "    rectss.append(rectss)\n",
    "\n",
    "ax.set_ylabel('Percentage (%)')\n",
    "ax.set_title('Percentage by section and time (7:00-20:00)')\n",
    "ax.set_xticks(x)\n",
    "ax.set_xticklabels(labels)\n",
    "# ax.legend()\n",
    "\n",
    "fig.tight_layout()\n",
    "\n",
    "plt.savefig('./report/imgs/img5.png', format='png')\n",
    "plt.show()\n"
   ],
   "metadata": {
    "collapsed": false,
    "ExecuteTime": {
     "end_time": "2023-12-05T09:32:13.725855Z",
     "start_time": "2023-12-05T09:32:13.605614Z"
    }
   },
   "id": "6d452f07cad733cf"
  },
  {
   "cell_type": "markdown",
   "source": [
    "-----done-----"
   ],
   "metadata": {
    "collapsed": false
   },
   "id": "f53601d071df8523"
  }
 ],
 "metadata": {
  "kernelspec": {
   "name": "python3",
   "language": "python",
   "display_name": "Python 3 (ipykernel)"
  },
  "language_info": {
   "codemirror_mode": {
    "name": "ipython",
    "version": 3
   },
   "file_extension": ".py",
   "mimetype": "text/x-python",
   "name": "python",
   "nbconvert_exporter": "python",
   "pygments_lexer": "ipython3",
   "version": "3.9.18"
  }
 },
 "nbformat": 4,
 "nbformat_minor": 5
}
