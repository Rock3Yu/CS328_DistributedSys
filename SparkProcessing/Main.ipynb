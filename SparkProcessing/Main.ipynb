{
 "cells": [
  {
   "cell_type": "markdown",
   "id": "9d14e2b3",
   "metadata": {},
   "source": [
    "# CS328 Assignment 2\n",
    "\n",
    "* Main task: Spark Data Processing\n",
    "    \n",
    "* Student Name: 余坤屹 Yu Kunyi\n",
    "\n",
    "* Student ID: 12013027\n"
   ]
  },
  {
   "cell_type": "code",
   "execution_count": 27,
   "id": "6e273694",
   "metadata": {},
   "outputs": [],
   "source": [
    "from pyspark.sql import SparkSession\n",
    "from pyspark.sql.functions import col\n",
    "import os\n",
    "\n",
    "file_path = \"./parking_data_sz.csv\"\n",
    "output_path = \"./out/\""
   ]
  },
  {
   "cell_type": "code",
   "execution_count": 28,
   "id": "a8925199",
   "metadata": {},
   "outputs": [
    {
     "name": "stdout",
     "output_type": "stream",
     "text": [
      "+-------------------+------------+-------------------+--------+----------------+\n",
      "|           out_time|admin_region|            in_time|berthage|         section|\n",
      "+-------------------+------------+-------------------+--------+----------------+\n",
      "|2018-09-01 12:00:00|      南山区|2018-09-01 10:10:00|  201091|荔园路(蛇口西段)|\n",
      "|2018-09-01 14:29:35|      南山区|2018-09-01 13:43:35|  201091|荔园路(蛇口西段)|\n",
      "|2018-09-01 16:08:54|      南山区|2018-09-01 15:10:54|  201091|荔园路(蛇口西段)|\n",
      "|2018-09-01 17:56:03|      南山区|2018-09-01 16:34:03|  201091|荔园路(蛇口西段)|\n",
      "|2018-09-01 20:00:20|      南山区|2018-09-01 18:40:20|  201091|荔园路(蛇口西段)|\n",
      "+-------------------+------------+-------------------+--------+----------------+\n",
      "only showing top 5 rows\n",
      "\n"
     ]
    }
   ],
   "source": [
    "spark = SparkSession.builder.appName(\"MySpark\").getOrCreate()\n",
    "\n",
    "df = spark.read.csv(file_path, header=True)\n",
    "df.show(5)\n",
    "# df.summary().show()\n"
   ]
  },
  {
   "cell_type": "markdown",
   "id": "63f96456",
   "metadata": {},
   "source": [
    "## Task 1: total number of berthages in each section\n",
    "\n",
    "Output the total number of berthages in each section. The output file should have two columns, with the headers being section and count."
   ]
  },
  {
   "cell_type": "code",
   "execution_count": 41,
   "id": "ae9972d6",
   "metadata": {},
   "outputs": [],
   "source": [
    "# util\n",
    "def renameCSV(new_name, path=output_path):\n",
    "    f = [f for f in os.listdir(path) if f.startswith(\"part\")][0]\n",
    "    old_path = os.path.join(path, f)\n",
    "    new_path = os.path.join(path, new_name)\n",
    "    os.rename(old_path, new_path)\n",
    "    "
   ]
  },
  {
   "cell_type": "code",
   "execution_count": 42,
   "id": "b64cea3a",
   "metadata": {},
   "outputs": [
    {
     "name": "stdout",
     "output_type": "stream",
     "text": [
      "+----------------+-----+\n",
      "|         section|count|\n",
      "+----------------+-----+\n",
      "|招商路(蛇口西段)|38480|\n",
      "|荔园路(蛇口西段)|31735|\n",
      "|          四海路|26361|\n",
      "|        金世纪路| 5748|\n",
      "|    海月路(东段)| 6913|\n",
      "+----------------+-----+\n",
      "only showing top 5 rows\n",
      "\n"
     ]
    }
   ],
   "source": [
    "df = spark.read.csv(file_path, header=True)\n",
    "\n",
    "df = spark.read.csv(file_path, header=True)\n",
    "result_df = df.groupBy(\"section\").agg({\"berthage\": \"count\"})\n",
    "result_df = result_df.withColumnRenamed(\"count(berthage)\", \"count\")\n",
    "result_df.show(5)\n",
    "result_df.write.csv(output_path, header=True, mode=\"overwrite\")\n",
    "renameCSV(new_name=\"1.csv\")\n"
   ]
  },
  {
   "cell_type": "code",
   "execution_count": null,
   "id": "56175b78",
   "metadata": {},
   "outputs": [],
   "source": []
  },
  {
   "cell_type": "code",
   "execution_count": null,
   "id": "6d3e2b6d",
   "metadata": {},
   "outputs": [],
   "source": []
  }
 ],
 "metadata": {
  "kernelspec": {
   "display_name": "Python [conda env:spark]",
   "language": "python",
   "name": "conda-env-spark-py"
  },
  "language_info": {
   "codemirror_mode": {
    "name": "ipython",
    "version": 3
   },
   "file_extension": ".py",
   "mimetype": "text/x-python",
   "name": "python",
   "nbconvert_exporter": "python",
   "pygments_lexer": "ipython3",
   "version": "3.9.18"
  }
 },
 "nbformat": 4,
 "nbformat_minor": 5
}
