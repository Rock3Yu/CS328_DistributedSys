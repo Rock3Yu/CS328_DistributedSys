{
 "cells": [
  {
   "cell_type": "markdown",
   "id": "9d14e2b3",
   "metadata": {},
   "source": [
    "# CS328 Assignment 2\n",
    "\n",
    "* Main task: Spark Data Processing\n",
    "    \n",
    "* Student Name: 余坤屹 Yu Kunyi\n",
    "\n",
    "* Student ID: 12013027\n"
   ]
  },
  {
   "cell_type": "code",
   "execution_count": 1,
   "id": "6e273694",
   "metadata": {
    "ExecuteTime": {
     "end_time": "2023-12-05T07:46:38.572210Z",
     "start_time": "2023-12-05T07:46:38.479297Z"
    }
   },
   "outputs": [],
   "source": [
    "import os\n",
    "from pyspark.sql import SparkSession\n",
    "from pyspark.sql.functions import col, unix_timestamp, desc, round, explode, expr\n",
    "from pyspark.sql import functions as F\n",
    "from pyspark.sql.types import ArrayType, StringType\n",
    "from datetime import datetime\n",
    "import time\n"
   ]
  },
  {
   "cell_type": "code",
   "execution_count": 2,
   "id": "a8925199",
   "metadata": {
    "ExecuteTime": {
     "end_time": "2023-12-05T07:46:46.227566Z",
     "start_time": "2023-12-05T07:46:40.033161Z"
    }
   },
   "outputs": [
    {
     "name": "stderr",
     "output_type": "stream",
     "text": [
      "Setting default log level to \"WARN\".\n",
      "To adjust logging level use sc.setLogLevel(newLevel). For SparkR, use setLogLevel(newLevel).\n",
      "23/12/05 15:46:40 WARN NativeCodeLoader: Unable to load native-hadoop library for your platform... using builtin-java classes where applicable\n"
     ]
    },
    {
     "name": "stdout",
     "output_type": "stream",
     "text": [
      "+-------------------+------------+-------------------+--------+----------------+\n",
      "|           out_time|admin_region|            in_time|berthage|         section|\n",
      "+-------------------+------------+-------------------+--------+----------------+\n",
      "|2018-09-01 12:00:00|      南山区|2018-09-01 10:10:00|  201091|荔园路(蛇口西段)|\n",
      "|2018-09-01 14:29:35|      南山区|2018-09-01 13:43:35|  201091|荔园路(蛇口西段)|\n",
      "|2018-09-01 16:08:54|      南山区|2018-09-01 15:10:54|  201091|荔园路(蛇口西段)|\n",
      "|2018-09-01 17:56:03|      南山区|2018-09-01 16:34:03|  201091|荔园路(蛇口西段)|\n",
      "|2018-09-01 20:00:20|      南山区|2018-09-01 18:40:20|  201091|荔园路(蛇口西段)|\n",
      "+-------------------+------------+-------------------+--------+----------------+\n"
     ]
    },
    {
     "name": "stderr",
     "output_type": "stream",
     "text": [
      "23/12/05 15:46:43 WARN SparkStringUtils: Truncated the string representation of a plan since it was too large. This behavior can be adjusted by setting 'spark.sql.debug.maxToStringFields'.\n",
      "[Stage 2:===================================================>     (10 + 1) / 11]\r"
     ]
    },
    {
     "name": "stdout",
     "output_type": "stream",
     "text": [
      "+-------+-------------------+------------+-------------------+------------------+----------------+\n",
      "|summary|           out_time|admin_region|            in_time|          berthage|         section|\n",
      "+-------+-------------------+------------+-------------------+------------------+----------------+\n",
      "|  count|            1048001|     1048001|            1048001|           1048001|         1048001|\n",
      "|   mean|               NULL|        NULL|               NULL|207145.52988212797|            NULL|\n",
      "| stddev|               NULL|        NULL|               NULL|2891.4981480978363|            NULL|\n",
      "|    min|2018-09-01 10:10:00|      南山区|2018-09-01 10:10:00|            201091|中心路(后海湾段)|\n",
      "|    25%|               NULL|        NULL|               NULL|          205127.0|            NULL|\n",
      "|    50%|               NULL|        NULL|               NULL|          208244.0|            NULL|\n",
      "|    75%|               NULL|        NULL|               NULL|          208676.0|            NULL|\n",
      "|    max|2019-03-01 20:05:05|      南山区|2019-03-01 20:05:05|            211291|          龙城路|\n",
      "+-------+-------------------+------------+-------------------+------------------+----------------+\n"
     ]
    },
    {
     "name": "stderr",
     "output_type": "stream",
     "text": [
      "                                                                                \r"
     ]
    }
   ],
   "source": [
    "file_path = \"./parking_data_sz.csv\"\n",
    "output_path = \"./out/\"\n",
    "result_path = \"./result/\"\n",
    "\n",
    "spark = SparkSession.builder.appName(\"MySpark\").getOrCreate()\n",
    "\n",
    "df = spark.read.csv(file_path, header=True)\n",
    "df.show(5)\n",
    "df.summary().show()\n"
   ]
  },
  {
   "cell_type": "markdown",
   "source": [
    "## Task 0: Preprocessing\n",
    "\n",
    "Filter out invalid data (time error, duplicates, N/A, non-integer berthage)\n",
    "add column (parking_time)"
   ],
   "metadata": {
    "collapsed": false
   },
   "id": "40aa142ca0237c4"
  },
  {
   "cell_type": "code",
   "execution_count": 3,
   "outputs": [
    {
     "name": "stderr",
     "output_type": "stream",
     "text": [
      "[Stage 7:===============================>                          (6 + 5) / 11]\r"
     ]
    },
    {
     "name": "stdout",
     "output_type": "stream",
     "text": [
      "+-------+-------------------+------------+-------------------+-----------------+----------------+------------------+\n",
      "|summary|           out_time|admin_region|            in_time|         berthage|         section|      parking_time|\n",
      "+-------+-------------------+------------+-------------------+-----------------+----------------+------------------+\n",
      "|  count|             970925|      970925|             970925|           970925|          970925|            970925|\n",
      "|   mean|               NULL|        NULL|               NULL|207133.8137744934|            NULL|3464.0354919278006|\n",
      "| stddev|               NULL|        NULL|               NULL|2880.969804832561|            NULL|  3525.50275486409|\n",
      "|    min|2018-09-01 10:11:00|      南山区|2018-09-01 10:10:00|           201091|中心路(后海湾段)|                60|\n",
      "|    25%|               NULL|        NULL|               NULL|           205127|            NULL|              1140|\n",
      "|    50%|               NULL|        NULL|               NULL|           208242|            NULL|              2400|\n",
      "|    75%|               NULL|        NULL|               NULL|           208672|            NULL|              4740|\n",
      "|    max|2019-03-01 20:00:58|      南山区|2019-03-01 19:59:22|           211291|          龙城路|             44400|\n",
      "+-------+-------------------+------------+-------------------+-----------------+----------------+------------------+\n"
     ]
    },
    {
     "name": "stderr",
     "output_type": "stream",
     "text": [
      "                                                                                \r"
     ]
    }
   ],
   "source": [
    "df = df \\\n",
    "    .filter(col(\"in_time\") < col(\"out_time\")) \\\n",
    "    .dropDuplicates([\"out_time\", \"in_time\", \"berthage\"]) \\\n",
    "    .na.drop()\n",
    "\n",
    "df = df \\\n",
    "    .withColumn(\"berthage\", col(\"berthage\").cast(\"int\")) \\\n",
    "    .withColumn(\"in_time_unix\", unix_timestamp(\"in_time\", \"yyyy-MM-dd HH:mm:ss\")) \\\n",
    "    .withColumn(\"out_time_unix\", unix_timestamp(\"out_time\", \"yyyy-MM-dd HH:mm:ss\")) \\\n",
    "    .withColumn(\"parking_time\", col(\"out_time_unix\") - col(\"in_time_unix\"))\n",
    "df = df.drop(\"out_time_unix\").drop(\"in_time_unix\")\n",
    "\n",
    "df.summary().show()\n"
   ],
   "metadata": {
    "collapsed": false,
    "ExecuteTime": {
     "end_time": "2023-12-05T07:46:56.451568Z",
     "start_time": "2023-12-05T07:46:52.374655Z"
    }
   },
   "id": "300f177292589955"
  },
  {
   "cell_type": "code",
   "execution_count": 4,
   "id": "ae9972d6",
   "metadata": {
    "ExecuteTime": {
     "end_time": "2023-12-05T07:46:58.332586Z",
     "start_time": "2023-12-05T07:46:58.322461Z"
    }
   },
   "outputs": [],
   "source": [
    "# util\n",
    "def storeCSV(new_name, path=output_path, result=result_path):\n",
    "    f = [f for f in os.listdir(path) if f.startswith(\"part\")][0]\n",
    "    old_path = os.path.join(path, f)\n",
    "    new_path = os.path.join(result, new_name)\n",
    "    os.rename(old_path, new_path)\n"
   ]
  },
  {
   "cell_type": "markdown",
   "source": [
    "## Task 1: total number of berthages in each section\n",
    "\n",
    "Output the total number of berthages in each section. The output file should have two columns, with the headers being section and count."
   ],
   "metadata": {
    "collapsed": false
   },
   "id": "63f96456"
  },
  {
   "cell_type": "code",
   "execution_count": 5,
   "id": "b64cea3a",
   "metadata": {
    "ExecuteTime": {
     "end_time": "2023-12-05T07:47:05.117728Z",
     "start_time": "2023-12-05T07:47:02.938754Z"
    }
   },
   "outputs": [
    {
     "name": "stdout",
     "output_type": "stream",
     "text": [
      "+--------------+-----+\n",
      "|       section|count|\n",
      "+--------------+-----+\n",
      "|    科技南一路|11480|\n",
      "|    高新南九道| 9176|\n",
      "|创业路(南油段)|22573|\n",
      "|      文心四路|30072|\n",
      "|    高新南七道|13613|\n",
      "+--------------+-----+\n"
     ]
    }
   ],
   "source": [
    "result_df = df \\\n",
    "    .groupBy(\"section\") \\\n",
    "    .agg({\"berthage\": \"count\"}) \\\n",
    "    .withColumnRenamed(\"count(berthage)\", \"count\")\n",
    "\n",
    "result_df.show(5)\n",
    "result_df.write.csv(output_path, header=True, mode=\"overwrite\")\n",
    "storeCSV(new_name=\"r1.csv\")\n",
    "# time.sleep(60)\n"
   ]
  },
  {
   "cell_type": "markdown",
   "source": [
    "## Task 2: all unique ids (berthages) with their sections\n",
    "\n",
    "Output all unique ids (berthages), associated with their sections. The output file should have two columns, with the headers being berthage and section."
   ],
   "metadata": {
    "collapsed": false
   },
   "id": "c6852ba33a53f789"
  },
  {
   "cell_type": "code",
   "execution_count": 6,
   "outputs": [
    {
     "name": "stdout",
     "output_type": "stream",
     "text": [
      "+--------+----------+\n",
      "|berthage|   section|\n",
      "+--------+----------+\n",
      "|  211147|科技南十路|\n",
      "|  208475|  海德一道|\n",
      "|  203372|  工业九路|\n",
      "|  203023|    四海路|\n",
      "|  206058|    常兴路|\n",
      "+--------+----------+\n"
     ]
    }
   ],
   "source": [
    "result_df = df \\\n",
    "    .select(\"berthage\", \"section\") \\\n",
    "    .distinct()\n",
    "\n",
    "result_df.show(5)\n",
    "result_df.write.csv(output_path, header=True, mode=\"overwrite\")\n",
    "storeCSV(new_name=\"r2.csv\")\n"
   ],
   "metadata": {
    "collapsed": false,
    "ExecuteTime": {
     "end_time": "2023-12-05T07:48:04.532238Z",
     "start_time": "2023-12-05T07:48:02.696655Z"
    }
   },
   "id": "770a43eaf7c1e257"
  },
  {
   "cell_type": "markdown",
   "source": [
    "## Task 3: Average parking time per section\n",
    "\n",
    "Output for each section:the average parking time of a car in that section.The output file should have two columns, with the headers being section and avg_parking_time. The average parking time should be counted in seconds as an integer."
   ],
   "metadata": {
    "collapsed": false
   },
   "id": "91945fb79b0bf29a"
  },
  {
   "cell_type": "code",
   "execution_count": 7,
   "outputs": [
    {
     "name": "stderr",
     "output_type": "stream",
     "text": [
      "                                                                                \r"
     ]
    },
    {
     "name": "stdout",
     "output_type": "stream",
     "text": [
      "+--------------+----------------+\n",
      "|       section|avg_parking_time|\n",
      "+--------------+----------------+\n",
      "|    科技南一路|            3727|\n",
      "|    高新南九道|            3843|\n",
      "|创业路(南油段)|            4091|\n",
      "|      文心四路|            2895|\n",
      "|    高新南七道|            4256|\n",
      "+--------------+----------------+\n"
     ]
    }
   ],
   "source": [
    "result_df = df \\\n",
    "    .groupBy(\"section\") \\\n",
    "    .agg(F.avg(\"parking_time\").cast(\"int\").alias(\"avg_parking_time\"))\n",
    "\n",
    "result_df.show(5)\n",
    "result_df.write.csv(output_path, header=True, mode=\"overwrite\")\n",
    "storeCSV(new_name=\"r3.csv\")\n"
   ],
   "metadata": {
    "collapsed": false,
    "ExecuteTime": {
     "end_time": "2023-12-05T07:49:07.856106Z",
     "start_time": "2023-12-05T07:49:05.696828Z"
    }
   },
   "id": "83eff4d297d5d709"
  },
  {
   "cell_type": "markdown",
   "source": [
    "## Task 4: Average parking time per berthage, in descending order\n",
    "\n",
    "Output the average parking time for each berthage, sorted in descending order. The output file should have two columns, with the headers being berthage and avg_parking_time. The average parking time should be counted in seconds as an integer."
   ],
   "metadata": {
    "collapsed": false
   },
   "id": "c7e61bc5902d2c41"
  },
  {
   "cell_type": "code",
   "execution_count": 8,
   "outputs": [
    {
     "name": "stdout",
     "output_type": "stream",
     "text": [
      "+--------+----------------+\n",
      "|berthage|avg_parking_time|\n",
      "+--------+----------------+\n",
      "|  207171|           13020|\n",
      "|  210459|           11220|\n",
      "|  211087|           10230|\n",
      "|  210034|            9780|\n",
      "|  202232|            7440|\n",
      "+--------+----------------+\n"
     ]
    }
   ],
   "source": [
    "result_df = df \\\n",
    "    .groupby(\"berthage\") \\\n",
    "    .agg(F.avg(\"parking_time\").cast(\"int\").alias(\"avg_parking_time\"))\n",
    "result_df = result_df.orderBy(desc(result_df.avg_parking_time))\n",
    "\n",
    "result_df.show(5)\n",
    "result_df.write.csv(output_path, header=True, mode=\"overwrite\")\n",
    "storeCSV(new_name=\"r4.csv\")"
   ],
   "metadata": {
    "collapsed": false,
    "ExecuteTime": {
     "end_time": "2023-12-05T07:50:07.536715Z",
     "start_time": "2023-12-05T07:50:05.338974Z"
    }
   },
   "id": "5358246e58274157"
  },
  {
   "cell_type": "markdown",
   "source": [
    "## Task 5: Berthage usage per section, hour\n",
    "\n",
    "Output for each section: the total number of berthages in use (“in use” means there is at least one car in that berthage) and the percentage out of the total number of berthages in that section, in a one-hour interval (e.g. during 09:00:00-10:00:00). The output file should have five columns, with the headers being start_time, end_time, section, count and percentage. The percentage value should be rounded to one decimal place (e.g. 67.8%). The data format of start_time and end_time should be “YYYY-MM-DD HH:MM:SS”, e.g. 2018-09-01 12:00:00"
   ],
   "metadata": {
    "collapsed": false
   },
   "id": "44dd364b5434bd65"
  },
  {
   "cell_type": "code",
   "execution_count": 9,
   "outputs": [
    {
     "data": {
      "text/plain": "<function __main__._map_time_scope(start_time, end_time) -> list>"
     },
     "execution_count": 9,
     "metadata": {},
     "output_type": "execute_result"
    }
   ],
   "source": [
    "def _format_time_range(a):\n",
    "    b = a + 1\n",
    "    start_time = datetime.strptime(f\"{a}:00:00\", \"%H:%M:%S\")\n",
    "    end_time = datetime.strptime(f\"{b}:00:00\", \"%H:%M:%S\")\n",
    "    formatted_range = f\"{start_time.strftime('%H:%M:%S')}-{end_time.strftime('%H:%M:%S')}\"\n",
    "    return formatted_range\n",
    "\n",
    "\n",
    "def _map_time_scope(start_time, end_time) -> list:\n",
    "    start_hour = int(start_time.split(\" \")[1].split(\":\")[0])\n",
    "    end_hour = int(end_time.split(\" \")[1].split(\":\")[0])\n",
    "    end_hour += 1 if not end_time.endswith(\"00:00\") else 0\n",
    "    return [_format_time_range(i) for i in range(start_hour, end_hour)]\n",
    "\n",
    "\n",
    "spark.udf.register(\"map_time_scope_udf\", _map_time_scope, ArrayType(StringType()))\n"
   ],
   "metadata": {
    "collapsed": false,
    "ExecuteTime": {
     "end_time": "2023-12-05T07:50:09.634422Z",
     "start_time": "2023-12-05T07:50:09.614050Z"
    }
   },
   "id": "f57315c9ffd32691"
  },
  {
   "cell_type": "code",
   "execution_count": 10,
   "outputs": [
    {
     "name": "stderr",
     "output_type": "stream",
     "text": [
      "                                                                                \r"
     ]
    },
    {
     "name": "stdout",
     "output_type": "stream",
     "text": [
      "+--------------------+-----+----------+----------+--------+\n",
      "|             section|count|percentage|start_time|end_time|\n",
      "+--------------------+-----+----------+----------+--------+\n",
      "|    中心路(后海湾段)|   63|     100.0|  19:00:00|20:00:00|\n",
      "|后海大道辅道(后海段)|   80|     100.0|  20:00:00|21:00:00|\n",
      "|      创业路(南油段)|   71|      98.6|  17:00:00|18:00:00|\n",
      "|        科技南十二路|   10|     100.0|  17:00:00|18:00:00|\n",
      "|          高新南十道|   69|      94.5|  16:00:00|17:00:00|\n",
      "+--------------------+-----+----------+----------+--------+\n"
     ]
    },
    {
     "name": "stderr",
     "output_type": "stream",
     "text": [
      "                                                                                \r"
     ]
    }
   ],
   "source": [
    "count_df = df.groupBy(\"section\").agg(F.countDistinct(\"berthage\").alias(\"berthage_count\"))\n",
    "\n",
    "tmp = df.select(\"section\",\n",
    "                explode(expr(\"map_time_scope_udf(in_time, out_time)\")).alias(\"time_scope\"),\n",
    "                \"berthage\")\n",
    "result_df = tmp \\\n",
    "    .groupby(\"section\", \"time_scope\") \\\n",
    "    .agg(F.countDistinct(\"berthage\").alias(\"count\")) \\\n",
    "    .join(count_df, \"section\")\n",
    "\n",
    "result_df = result_df \\\n",
    "    .withColumn(\"percentage\", round((col(\"count\") / col(\"berthage_count\")) * 100, 1)) \\\n",
    "    .drop(\"berthage_count\") \\\n",
    "    .withColumn(\"start_time\", col(\"time_scope\").substr(0, 8)) \\\n",
    "    .withColumn(\"end_time\", col(\"time_scope\").substr(10, 8)) \\\n",
    "    .drop(\"time_scope\")\n",
    "\n",
    "result_df.show(5)\n",
    "result_df.write.csv(output_path, header=True, mode=\"overwrite\")\n",
    "storeCSV(new_name=\"r5.csv\")"
   ],
   "metadata": {
    "collapsed": false,
    "ExecuteTime": {
     "end_time": "2023-12-05T08:10:31.578254Z",
     "start_time": "2023-12-05T07:51:11.443748Z"
    }
   },
   "id": "1cf4c5bdcb71e385"
  },
  {
   "cell_type": "markdown",
   "source": [
    "-----done-----"
   ],
   "metadata": {
    "collapsed": false
   },
   "id": "f53601d071df8523"
  }
 ],
 "metadata": {
  "kernelspec": {
   "name": "conda-env-yu-py",
   "language": "python",
   "display_name": "Python [conda env:yu]"
  },
  "language_info": {
   "codemirror_mode": {
    "name": "ipython",
    "version": 3
   },
   "file_extension": ".py",
   "mimetype": "text/x-python",
   "name": "python",
   "nbconvert_exporter": "python",
   "pygments_lexer": "ipython3",
   "version": "3.9.18"
  }
 },
 "nbformat": 4,
 "nbformat_minor": 5
}
