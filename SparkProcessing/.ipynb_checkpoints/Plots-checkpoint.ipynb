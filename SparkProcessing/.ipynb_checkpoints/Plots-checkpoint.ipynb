{
 "cells": [
  {
   "cell_type": "markdown",
   "id": "9d14e2b3",
   "metadata": {},
   "source": [
    "# CS328 Assignment 2 \n",
    "\n",
    "* Main task: Spark Data Processing - Plots\n",
    "    \n",
    "* Student Name: 余坤屹 Yu Kunyi\n",
    "\n",
    "* Student ID: 12013027\n"
   ]
  },
  {
   "cell_type": "code",
   "execution_count": 1,
   "id": "6e273694",
   "metadata": {
    "ExecuteTime": {
     "end_time": "2023-12-05T05:52:12.581870Z",
     "start_time": "2023-12-05T05:52:12.580272Z"
    }
   },
   "outputs": [],
   "source": [
    "import os\n",
    "import pandas as pd\n",
    "import matplotlib.pyplot as plt\n",
    "import seaborn as sns\n",
    "\n",
    "result_path = \"./result/\"\n"
   ]
  },
  {
   "cell_type": "markdown",
   "id": "63f96456",
   "metadata": {},
   "source": [
    "## Task 1: total number of berthages in each section\n",
    "\n",
    "Output the total number of berthages in each section. The output file should have two columns, with the headers being section and count."
   ]
  },
  {
   "cell_type": "code",
   "execution_count": 2,
   "outputs": [
    {
     "name": "stderr",
     "output_type": "stream",
     "text": [
      "/var/folders/v9/sbf3kyvn34z8_7d_83by5fsw0000gn/T/ipykernel_14460/3755554853.py:7: FutureWarning: \n",
      "\n",
      "Passing `palette` without assigning `hue` is deprecated and will be removed in v0.14.0. Assign the `y` variable to `hue` and set `legend=False` for the same effect.\n",
      "\n",
      "  sns.barplot(x='count', y='section', data=data, palette='viridis')\n",
      "/Users/rock/anaconda3/envs/yu/lib/python3.9/site-packages/IPython/core/pylabtools.py:152: UserWarning: Glyph 31185 (\\N{CJK UNIFIED IDEOGRAPH-79D1}) missing from current font.\n",
      "  fig.canvas.print_figure(bytes_io, **kw)\n",
      "/Users/rock/anaconda3/envs/yu/lib/python3.9/site-packages/IPython/core/pylabtools.py:152: UserWarning: Glyph 25216 (\\N{CJK UNIFIED IDEOGRAPH-6280}) missing from current font.\n",
      "  fig.canvas.print_figure(bytes_io, **kw)\n",
      "/Users/rock/anaconda3/envs/yu/lib/python3.9/site-packages/IPython/core/pylabtools.py:152: UserWarning: Glyph 21335 (\\N{CJK UNIFIED IDEOGRAPH-5357}) missing from current font.\n",
      "  fig.canvas.print_figure(bytes_io, **kw)\n",
      "/Users/rock/anaconda3/envs/yu/lib/python3.9/site-packages/IPython/core/pylabtools.py:152: UserWarning: Glyph 19968 (\\N{CJK UNIFIED IDEOGRAPH-4E00}) missing from current font.\n",
      "  fig.canvas.print_figure(bytes_io, **kw)\n",
      "/Users/rock/anaconda3/envs/yu/lib/python3.9/site-packages/IPython/core/pylabtools.py:152: UserWarning: Glyph 36335 (\\N{CJK UNIFIED IDEOGRAPH-8DEF}) missing from current font.\n",
      "  fig.canvas.print_figure(bytes_io, **kw)\n",
      "/Users/rock/anaconda3/envs/yu/lib/python3.9/site-packages/IPython/core/pylabtools.py:152: UserWarning: Glyph 39640 (\\N{CJK UNIFIED IDEOGRAPH-9AD8}) missing from current font.\n",
      "  fig.canvas.print_figure(bytes_io, **kw)\n",
      "/Users/rock/anaconda3/envs/yu/lib/python3.9/site-packages/IPython/core/pylabtools.py:152: UserWarning: Glyph 26032 (\\N{CJK UNIFIED IDEOGRAPH-65B0}) missing from current font.\n",
      "  fig.canvas.print_figure(bytes_io, **kw)\n",
      "/Users/rock/anaconda3/envs/yu/lib/python3.9/site-packages/IPython/core/pylabtools.py:152: UserWarning: Glyph 20061 (\\N{CJK UNIFIED IDEOGRAPH-4E5D}) missing from current font.\n",
      "  fig.canvas.print_figure(bytes_io, **kw)\n",
      "/Users/rock/anaconda3/envs/yu/lib/python3.9/site-packages/IPython/core/pylabtools.py:152: UserWarning: Glyph 36947 (\\N{CJK UNIFIED IDEOGRAPH-9053}) missing from current font.\n",
      "  fig.canvas.print_figure(bytes_io, **kw)\n",
      "/Users/rock/anaconda3/envs/yu/lib/python3.9/site-packages/IPython/core/pylabtools.py:152: UserWarning: Glyph 21019 (\\N{CJK UNIFIED IDEOGRAPH-521B}) missing from current font.\n",
      "  fig.canvas.print_figure(bytes_io, **kw)\n",
      "/Users/rock/anaconda3/envs/yu/lib/python3.9/site-packages/IPython/core/pylabtools.py:152: UserWarning: Glyph 19994 (\\N{CJK UNIFIED IDEOGRAPH-4E1A}) missing from current font.\n",
      "  fig.canvas.print_figure(bytes_io, **kw)\n",
      "/Users/rock/anaconda3/envs/yu/lib/python3.9/site-packages/IPython/core/pylabtools.py:152: UserWarning: Glyph 27833 (\\N{CJK UNIFIED IDEOGRAPH-6CB9}) missing from current font.\n",
      "  fig.canvas.print_figure(bytes_io, **kw)\n",
      "/Users/rock/anaconda3/envs/yu/lib/python3.9/site-packages/IPython/core/pylabtools.py:152: UserWarning: Glyph 27573 (\\N{CJK UNIFIED IDEOGRAPH-6BB5}) missing from current font.\n",
      "  fig.canvas.print_figure(bytes_io, **kw)\n",
      "/Users/rock/anaconda3/envs/yu/lib/python3.9/site-packages/IPython/core/pylabtools.py:152: UserWarning: Glyph 25991 (\\N{CJK UNIFIED IDEOGRAPH-6587}) missing from current font.\n",
      "  fig.canvas.print_figure(bytes_io, **kw)\n",
      "/Users/rock/anaconda3/envs/yu/lib/python3.9/site-packages/IPython/core/pylabtools.py:152: UserWarning: Glyph 24515 (\\N{CJK UNIFIED IDEOGRAPH-5FC3}) missing from current font.\n",
      "  fig.canvas.print_figure(bytes_io, **kw)\n",
      "/Users/rock/anaconda3/envs/yu/lib/python3.9/site-packages/IPython/core/pylabtools.py:152: UserWarning: Glyph 22235 (\\N{CJK UNIFIED IDEOGRAPH-56DB}) missing from current font.\n",
      "  fig.canvas.print_figure(bytes_io, **kw)\n",
      "/Users/rock/anaconda3/envs/yu/lib/python3.9/site-packages/IPython/core/pylabtools.py:152: UserWarning: Glyph 19971 (\\N{CJK UNIFIED IDEOGRAPH-4E03}) missing from current font.\n",
      "  fig.canvas.print_figure(bytes_io, **kw)\n",
      "/Users/rock/anaconda3/envs/yu/lib/python3.9/site-packages/IPython/core/pylabtools.py:152: UserWarning: Glyph 25307 (\\N{CJK UNIFIED IDEOGRAPH-62DB}) missing from current font.\n",
      "  fig.canvas.print_figure(bytes_io, **kw)\n",
      "/Users/rock/anaconda3/envs/yu/lib/python3.9/site-packages/IPython/core/pylabtools.py:152: UserWarning: Glyph 21830 (\\N{CJK UNIFIED IDEOGRAPH-5546}) missing from current font.\n",
      "  fig.canvas.print_figure(bytes_io, **kw)\n",
      "/Users/rock/anaconda3/envs/yu/lib/python3.9/site-packages/IPython/core/pylabtools.py:152: UserWarning: Glyph 34503 (\\N{CJK UNIFIED IDEOGRAPH-86C7}) missing from current font.\n",
      "  fig.canvas.print_figure(bytes_io, **kw)\n",
      "/Users/rock/anaconda3/envs/yu/lib/python3.9/site-packages/IPython/core/pylabtools.py:152: UserWarning: Glyph 21475 (\\N{CJK UNIFIED IDEOGRAPH-53E3}) missing from current font.\n",
      "  fig.canvas.print_figure(bytes_io, **kw)\n",
      "/Users/rock/anaconda3/envs/yu/lib/python3.9/site-packages/IPython/core/pylabtools.py:152: UserWarning: Glyph 35199 (\\N{CJK UNIFIED IDEOGRAPH-897F}) missing from current font.\n",
      "  fig.canvas.print_figure(bytes_io, **kw)\n",
      "/Users/rock/anaconda3/envs/yu/lib/python3.9/site-packages/IPython/core/pylabtools.py:152: UserWarning: Glyph 21313 (\\N{CJK UNIFIED IDEOGRAPH-5341}) missing from current font.\n",
      "  fig.canvas.print_figure(bytes_io, **kw)\n",
      "/Users/rock/anaconda3/envs/yu/lib/python3.9/site-packages/IPython/core/pylabtools.py:152: UserWarning: Glyph 21518 (\\N{CJK UNIFIED IDEOGRAPH-540E}) missing from current font.\n",
      "  fig.canvas.print_figure(bytes_io, **kw)\n",
      "/Users/rock/anaconda3/envs/yu/lib/python3.9/site-packages/IPython/core/pylabtools.py:152: UserWarning: Glyph 28023 (\\N{CJK UNIFIED IDEOGRAPH-6D77}) missing from current font.\n",
      "  fig.canvas.print_figure(bytes_io, **kw)\n",
      "/Users/rock/anaconda3/envs/yu/lib/python3.9/site-packages/IPython/core/pylabtools.py:152: UserWarning: Glyph 22823 (\\N{CJK UNIFIED IDEOGRAPH-5927}) missing from current font.\n",
      "  fig.canvas.print_figure(bytes_io, **kw)\n",
      "/Users/rock/anaconda3/envs/yu/lib/python3.9/site-packages/IPython/core/pylabtools.py:152: UserWarning: Glyph 36741 (\\N{CJK UNIFIED IDEOGRAPH-8F85}) missing from current font.\n",
      "  fig.canvas.print_figure(bytes_io, **kw)\n",
      "/Users/rock/anaconda3/envs/yu/lib/python3.9/site-packages/IPython/core/pylabtools.py:152: UserWarning: Glyph 21271 (\\N{CJK UNIFIED IDEOGRAPH-5317}) missing from current font.\n",
      "  fig.canvas.print_figure(bytes_io, **kw)\n",
      "/Users/rock/anaconda3/envs/yu/lib/python3.9/site-packages/IPython/core/pylabtools.py:152: UserWarning: Glyph 23398 (\\N{CJK UNIFIED IDEOGRAPH-5B66}) missing from current font.\n",
      "  fig.canvas.print_figure(bytes_io, **kw)\n",
      "/Users/rock/anaconda3/envs/yu/lib/python3.9/site-packages/IPython/core/pylabtools.py:152: UserWarning: Glyph 24220 (\\N{CJK UNIFIED IDEOGRAPH-5E9C}) missing from current font.\n",
      "  fig.canvas.print_figure(bytes_io, **kw)\n",
      "/Users/rock/anaconda3/envs/yu/lib/python3.9/site-packages/IPython/core/pylabtools.py:152: UserWarning: Glyph 21069 (\\N{CJK UNIFIED IDEOGRAPH-524D}) missing from current font.\n",
      "  fig.canvas.print_figure(bytes_io, **kw)\n",
      "/Users/rock/anaconda3/envs/yu/lib/python3.9/site-packages/IPython/core/pylabtools.py:152: UserWarning: Glyph 30331 (\\N{CJK UNIFIED IDEOGRAPH-767B}) missing from current font.\n",
      "  fig.canvas.print_figure(bytes_io, **kw)\n",
      "/Users/rock/anaconda3/envs/yu/lib/python3.9/site-packages/IPython/core/pylabtools.py:152: UserWarning: Glyph 33391 (\\N{CJK UNIFIED IDEOGRAPH-826F}) missing from current font.\n",
      "  fig.canvas.print_figure(bytes_io, **kw)\n",
      "/Users/rock/anaconda3/envs/yu/lib/python3.9/site-packages/IPython/core/pylabtools.py:152: UserWarning: Glyph 24037 (\\N{CJK UNIFIED IDEOGRAPH-5DE5}) missing from current font.\n",
      "  fig.canvas.print_figure(bytes_io, **kw)\n",
      "/Users/rock/anaconda3/envs/yu/lib/python3.9/site-packages/IPython/core/pylabtools.py:152: UserWarning: Glyph 19977 (\\N{CJK UNIFIED IDEOGRAPH-4E09}) missing from current font.\n",
      "  fig.canvas.print_figure(bytes_io, **kw)\n",
      "/Users/rock/anaconda3/envs/yu/lib/python3.9/site-packages/IPython/core/pylabtools.py:152: UserWarning: Glyph 33620 (\\N{CJK UNIFIED IDEOGRAPH-8354}) missing from current font.\n",
      "  fig.canvas.print_figure(bytes_io, **kw)\n",
      "/Users/rock/anaconda3/envs/yu/lib/python3.9/site-packages/IPython/core/pylabtools.py:152: UserWarning: Glyph 22253 (\\N{CJK UNIFIED IDEOGRAPH-56ED}) missing from current font.\n",
      "  fig.canvas.print_figure(bytes_io, **kw)\n",
      "/Users/rock/anaconda3/envs/yu/lib/python3.9/site-packages/IPython/core/pylabtools.py:152: UserWarning: Glyph 19996 (\\N{CJK UNIFIED IDEOGRAPH-4E1C}) missing from current font.\n",
      "  fig.canvas.print_figure(bytes_io, **kw)\n",
      "/Users/rock/anaconda3/envs/yu/lib/python3.9/site-packages/IPython/core/pylabtools.py:152: UserWarning: Glyph 29615 (\\N{CJK UNIFIED IDEOGRAPH-73AF}) missing from current font.\n",
      "  fig.canvas.print_figure(bytes_io, **kw)\n",
      "/Users/rock/anaconda3/envs/yu/lib/python3.9/site-packages/IPython/core/pylabtools.py:152: UserWarning: Glyph 20116 (\\N{CJK UNIFIED IDEOGRAPH-4E94}) missing from current font.\n",
      "  fig.canvas.print_figure(bytes_io, **kw)\n",
      "/Users/rock/anaconda3/envs/yu/lib/python3.9/site-packages/IPython/core/pylabtools.py:152: UserWarning: Glyph 24503 (\\N{CJK UNIFIED IDEOGRAPH-5FB7}) missing from current font.\n",
      "  fig.canvas.print_figure(bytes_io, **kw)\n",
      "/Users/rock/anaconda3/envs/yu/lib/python3.9/site-packages/IPython/core/pylabtools.py:152: UserWarning: Glyph 20108 (\\N{CJK UNIFIED IDEOGRAPH-4E8C}) missing from current font.\n",
      "  fig.canvas.print_figure(bytes_io, **kw)\n",
      "/Users/rock/anaconda3/envs/yu/lib/python3.9/site-packages/IPython/core/pylabtools.py:152: UserWarning: Glyph 20013 (\\N{CJK UNIFIED IDEOGRAPH-4E2D}) missing from current font.\n",
      "  fig.canvas.print_figure(bytes_io, **kw)\n",
      "/Users/rock/anaconda3/envs/yu/lib/python3.9/site-packages/IPython/core/pylabtools.py:152: UserWarning: Glyph 28286 (\\N{CJK UNIFIED IDEOGRAPH-6E7E}) missing from current font.\n",
      "  fig.canvas.print_figure(bytes_io, **kw)\n",
      "/Users/rock/anaconda3/envs/yu/lib/python3.9/site-packages/IPython/core/pylabtools.py:152: UserWarning: Glyph 37329 (\\N{CJK UNIFIED IDEOGRAPH-91D1}) missing from current font.\n",
      "  fig.canvas.print_figure(bytes_io, **kw)\n",
      "/Users/rock/anaconda3/envs/yu/lib/python3.9/site-packages/IPython/core/pylabtools.py:152: UserWarning: Glyph 19990 (\\N{CJK UNIFIED IDEOGRAPH-4E16}) missing from current font.\n",
      "  fig.canvas.print_figure(bytes_io, **kw)\n",
      "/Users/rock/anaconda3/envs/yu/lib/python3.9/site-packages/IPython/core/pylabtools.py:152: UserWarning: Glyph 32426 (\\N{CJK UNIFIED IDEOGRAPH-7EAA}) missing from current font.\n",
      "  fig.canvas.print_figure(bytes_io, **kw)\n",
      "/Users/rock/anaconda3/envs/yu/lib/python3.9/site-packages/IPython/core/pylabtools.py:152: UserWarning: Glyph 20845 (\\N{CJK UNIFIED IDEOGRAPH-516D}) missing from current font.\n",
      "  fig.canvas.print_figure(bytes_io, **kw)\n",
      "/Users/rock/anaconda3/envs/yu/lib/python3.9/site-packages/IPython/core/pylabtools.py:152: UserWarning: Glyph 40857 (\\N{CJK UNIFIED IDEOGRAPH-9F99}) missing from current font.\n",
      "  fig.canvas.print_figure(bytes_io, **kw)\n",
      "/Users/rock/anaconda3/envs/yu/lib/python3.9/site-packages/IPython/core/pylabtools.py:152: UserWarning: Glyph 22478 (\\N{CJK UNIFIED IDEOGRAPH-57CE}) missing from current font.\n",
      "  fig.canvas.print_figure(bytes_io, **kw)\n",
      "/Users/rock/anaconda3/envs/yu/lib/python3.9/site-packages/IPython/core/pylabtools.py:152: UserWarning: Glyph 22836 (\\N{CJK UNIFIED IDEOGRAPH-5934}) missing from current font.\n",
      "  fig.canvas.print_figure(bytes_io, **kw)\n",
      "/Users/rock/anaconda3/envs/yu/lib/python3.9/site-packages/IPython/core/pylabtools.py:152: UserWarning: Glyph 34903 (\\N{CJK UNIFIED IDEOGRAPH-8857}) missing from current font.\n",
      "  fig.canvas.print_figure(bytes_io, **kw)\n",
      "/Users/rock/anaconda3/envs/yu/lib/python3.9/site-packages/IPython/core/pylabtools.py:152: UserWarning: Glyph 26376 (\\N{CJK UNIFIED IDEOGRAPH-6708}) missing from current font.\n",
      "  fig.canvas.print_figure(bytes_io, **kw)\n",
      "/Users/rock/anaconda3/envs/yu/lib/python3.9/site-packages/IPython/core/pylabtools.py:152: UserWarning: Glyph 65288 (\\N{FULLWIDTH LEFT PARENTHESIS}) missing from current font.\n",
      "  fig.canvas.print_figure(bytes_io, **kw)\n",
      "/Users/rock/anaconda3/envs/yu/lib/python3.9/site-packages/IPython/core/pylabtools.py:152: UserWarning: Glyph 65289 (\\N{FULLWIDTH RIGHT PARENTHESIS}) missing from current font.\n",
      "  fig.canvas.print_figure(bytes_io, **kw)\n",
      "/Users/rock/anaconda3/envs/yu/lib/python3.9/site-packages/IPython/core/pylabtools.py:152: UserWarning: Glyph 24120 (\\N{CJK UNIFIED IDEOGRAPH-5E38}) missing from current font.\n",
      "  fig.canvas.print_figure(bytes_io, **kw)\n",
      "/Users/rock/anaconda3/envs/yu/lib/python3.9/site-packages/IPython/core/pylabtools.py:152: UserWarning: Glyph 20852 (\\N{CJK UNIFIED IDEOGRAPH-5174}) missing from current font.\n",
      "  fig.canvas.print_figure(bytes_io, **kw)\n",
      "/Users/rock/anaconda3/envs/yu/lib/python3.9/site-packages/IPython/core/pylabtools.py:152: UserWarning: Glyph 21326 (\\N{CJK UNIFIED IDEOGRAPH-534E}) missing from current font.\n",
      "  fig.canvas.print_figure(bytes_io, **kw)\n",
      "/Users/rock/anaconda3/envs/yu/lib/python3.9/site-packages/IPython/core/pylabtools.py:152: UserWarning: Glyph 26126 (\\N{CJK UNIFIED IDEOGRAPH-660E}) missing from current font.\n",
      "  fig.canvas.print_figure(bytes_io, **kw)\n"
     ]
    },
    {
     "data": {
      "text/plain": "<Figure size 1000x600 with 1 Axes>",
      "image/png": "[encoded data removed]"
     },
     "metadata": {},
     "output_type": "display_data"
    }
   ],
   "source": [
    "file_path = os.path.join(result_path, \"r1.csv\")\n",
    "data = pd.read_csv(file_path)\n",
    "\n",
    "sns.set(style=\"whitegrid\")\n",
    "\n",
    "plt.figure(figsize=(10, 6))\n",
    "sns.barplot(x='count', y='section', data=data, palette='viridis')\n",
    "\n",
    "plt.title('Section Counts')\n",
    "plt.xlabel('Count')\n",
    "plt.ylabel('Section')\n",
    "\n",
    "plt.show()"
   ],
   "metadata": {
    "collapsed": false,
    "ExecuteTime": {
     "end_time": "2023-12-05T05:52:17.037322Z",
     "start_time": "2023-12-05T05:52:16.766699Z"
    }
   },
   "id": "d6a13de788658b9a"
  },
  {
   "cell_type": "markdown",
   "source": [
    "## Task 2: all unique ids (berthages) with their sections\n",
    "\n",
    "Output all unique ids (berthages), associated with their sections. The output file should have two columns, with the headers being berthage and section."
   ],
   "metadata": {
    "collapsed": false
   },
   "id": "c6852ba33a53f789"
  },
  {
   "cell_type": "code",
   "execution_count": null,
   "outputs": [],
   "source": [],
   "metadata": {
    "collapsed": false
   },
   "id": "d1dd4f0a295fe211"
  },
  {
   "cell_type": "markdown",
   "source": [
    "## Task 3: Average parking time per section\n",
    "\n",
    "Output for each section:the average parking time of a car in that section.The output file should have two columns, with the headers being section and avg_parking_time. The average parking time should be counted in seconds as an integer."
   ],
   "metadata": {
    "collapsed": false
   },
   "id": "91945fb79b0bf29a"
  },
  {
   "cell_type": "code",
   "execution_count": null,
   "outputs": [],
   "source": [],
   "metadata": {
    "collapsed": false
   },
   "id": "6fbf013035b82815"
  },
  {
   "cell_type": "markdown",
   "source": [
    "## Task 4: Average parking time per berthage, in descending order\n",
    "\n",
    "Output the average parking time for each berthage, sorted in descending order. The output file should have two columns, with the headers being berthage and avg_parking_time. The average parking time should be counted in seconds as an integer."
   ],
   "metadata": {
    "collapsed": false
   },
   "id": "c7e61bc5902d2c41"
  },
  {
   "cell_type": "code",
   "execution_count": null,
   "outputs": [],
   "source": [],
   "metadata": {
    "collapsed": false
   },
   "id": "68af57b8a61c33b3"
  },
  {
   "cell_type": "markdown",
   "source": [
    "## Task 5: Berthage usage per section, hour\n",
    "\n",
    "Output for each section: the total number of berthages in use (“in use” means there is at least one car in that berthage) and the percentage out of the total number of berthages in that section, in a one-hour interval (e.g. during 09:00:00-10:00:00). The output file should have five columns, with the headers being start_time, end_time, section, count and percentage. The percentage value should be rounded to one decimal place (e.g. 67.8%). The data format of start_time and end_time should be “YYYY-MM-DD HH:MM:SS”, e.g. 2018-09-01 12:00:00"
   ],
   "metadata": {
    "collapsed": false
   },
   "id": "44dd364b5434bd65"
  },
  {
   "cell_type": "code",
   "execution_count": null,
   "outputs": [],
   "source": [],
   "metadata": {
    "collapsed": false
   },
   "id": "99915f577b7ed833"
  },
  {
   "cell_type": "markdown",
   "source": [
    "-----done-----"
   ],
   "metadata": {
    "collapsed": false
   },
   "id": "f53601d071df8523"
  }
 ],
 "metadata": {
  "kernelspec": {
   "name": "python3",
   "language": "python",
   "display_name": "Python 3 (ipykernel)"
  },
  "language_info": {
   "codemirror_mode": {
    "name": "ipython",
    "version": 3
   },
   "file_extension": ".py",
   "mimetype": "text/x-python",
   "name": "python",
   "nbconvert_exporter": "python",
   "pygments_lexer": "ipython3",
   "version": "3.9.18"
  }
 },
 "nbformat": 4,
 "nbformat_minor": 5
}
